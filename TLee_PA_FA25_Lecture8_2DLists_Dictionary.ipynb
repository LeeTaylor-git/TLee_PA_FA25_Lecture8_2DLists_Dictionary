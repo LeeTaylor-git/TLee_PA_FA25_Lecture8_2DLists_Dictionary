{
  "nbformat": 4,
  "nbformat_minor": 0,
  "metadata": {
    "colab": {
      "provenance": [],
      "include_colab_link": true
    },
    "kernelspec": {
      "name": "python3",
      "display_name": "Python 3"
    },
    "language_info": {
      "name": "python"
    }
  },
  "cells": [
    {
      "cell_type": "markdown",
      "metadata": {
        "id": "view-in-github",
        "colab_type": "text"
      },
      "source": [
        "<a href=\"https://colab.research.google.com/github/LeeTaylor-git/TLee_PA_FA25_Lecture8_2DLists_Dictionary/blob/main/TLee_PA_FA25_Lecture8_2DLists_Dictionary.ipynb\" target=\"_parent\"><img src=\"https://colab.research.google.com/assets/colab-badge.svg\" alt=\"Open In Colab\"/></a>"
      ]
    },
    {
      "cell_type": "code",
      "source": [
        "matrix_a = [[2, 4, 6, 8, 10], [3, 6, 9, 12, 15], [4, 8, 12, 16, 20]]"
      ],
      "metadata": {
        "id": "1xJKUnYpNqNc"
      },
      "execution_count": 2,
      "outputs": []
    },
    {
      "cell_type": "markdown",
      "source": [
        "**Practice 1: How do we access columns of matrix_a? Write code to put its first column into a list and print the first column.**"
      ],
      "metadata": {
        "id": "sR6LLqMBLQem"
      }
    },
    {
      "cell_type": "code",
      "source": [
        "first_column = []\n",
        "for row in matrix_a:\n",
        "  first_column.append(row[0])\n",
        "\n",
        "print(first_column)"
      ],
      "metadata": {
        "id": "ZqgJD01IneEc"
      },
      "execution_count": null,
      "outputs": []
    }
  ]
}